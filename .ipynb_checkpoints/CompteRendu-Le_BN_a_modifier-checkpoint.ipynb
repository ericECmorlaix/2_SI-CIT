{
 "cells": [
  {
   "cell_type": "markdown",
   "metadata": {},
   "source": [
    "<center><h1>Sciences de l'Ingénieur - Création et Innovation Technologique</h1></center>\n",
    "<img src=\"img/ECAM-Lycee-Notre-Dame-Du-Mur.png\" alt=\"Logo du Lycee Notre Dame Du Mur\" width=50%>\n",
    "<center><h2><button class='fa fa-newspaper-o'></button> Compte rendu de mini-projet d'application</h2></center>"
   ]
  },
  {
   "cell_type": "markdown",
   "metadata": {},
   "source": [
    "### Notre système support est ...\n",
    "\n",
    "<img src=\"monImage.png\" alt=\"Bientôt il y aura ici une image de notre système support\" title=\"Ecrire ici le nom du système\" width=\"50%\">\n",
    "<center>Ajouter ici une légende</center>\n",
    "\n",
    "### Les membres de l'équipe sont :\n",
    "- Prénom Nom 2GT...\n",
    "- Prénom Nom 2GT...\n",
    "\n",
    "### Fonctions Techniques :\n",
    "Ajouter un lien vers votre carte Mindomo ou l'intégrer...\n",
    "\n",
    "Lister ici la ou les solutions techniques que vous allez prototyper...\n",
    "\n",
    "### Prototypage :\n",
    "Décrire ici les prototypes que vous envisagez de réaliser...\n",
    "> #### Simulation :\n",
    "- Modélisation 3D ?\n",
    "- Animation Scratch ?\n",
    "- Simulation de carte à micro-controleur et de circuit électronique ?\n",
    "- Autre... ?\n",
    "\n",
    "> #### Expérimentation :\n",
    "- Maquette en carton, bois, ... ?\n",
    "- Construction à base de lego, meccano, ... ?\n",
    "- Carte à micro-controleur (BBC micro:bit, Arduino, Raspberry Pi) ?\n",
    "- Montage électronique sur breadboard ?\n",
    "- Autre... ?\n"
   ]
  },
  {
   "cell_type": "code",
   "execution_count": null,
   "metadata": {},
   "outputs": [],
   "source": []
  }
 ],
 "metadata": {
  "kernelspec": {
   "display_name": "Python 3",
   "language": "python",
   "name": "python3"
  },
  "language_info": {
   "codemirror_mode": {
    "name": "ipython",
    "version": 3
   },
   "file_extension": ".py",
   "mimetype": "text/x-python",
   "name": "python",
   "nbconvert_exporter": "python",
   "pygments_lexer": "ipython3",
   "version": "3.7.3"
  }
 },
 "nbformat": 4,
 "nbformat_minor": 2
}
