{
 "cells": [
  {
   "cell_type": "markdown",
   "metadata": {},
   "source": [
    "<center><h1>Sciences de l'Ingénieur - Création et Innovation Technologique</h1></center>\n",
    "<img src=\"https://ericecmorlaix.github.io/img/ECAM-Lycee-Notre-Dame-Du-Mur.png\" alt=\"Logo du Lycee Notre Dame Du Mur\" width=50%>\n",
    "<center><h2><button class='fa fa-newspaper-o'></button> Compte rendu de mini-projet d'application</h2></center>"
   ]
  },
  {
   "cell_type": "markdown",
   "metadata": {},
   "source": [
    "### Notre système support est ...\n",
    "\n",
    "<img src=\"monImage.png\" alt=\"Bientôt il y aura ici une image de notre système support\" title=\"Ecrire ici le nom du système\" width=\"50%\">\n",
    "<center>Ajouter ici une légende</center>\n",
    "\n",
    "### Les membres de l'équipe sont :\n",
    "- Prénom Nom 2GT...\n",
    "- Prénom Nom 2GT...\n",
    "\n",
    "### Fonctions Techniques :\n",
    "Ajouter un lien vers votre carte Mindomo et/ou votre draw.io, ou les intégrer...\n",
    "\n",
    "Lister ici la ou les solutions techniques que vous allez prototyper...\n",
    "\n",
    "### Prototypage :\n",
    "Décrire ici les prototypes que vous envisagez de réaliser...\n",
    "> #### Simulation :\n",
    "- Modélisation 3D ?\n",
    "- Animation Scratch ?\n",
    "- Simulation de carte à micro-controleur et de circuit électronique ?\n",
    "- Autre... ?\n",
    "\n",
    "> #### Expérimentation :\n",
    "- Maquette en carton, bois, ... ?\n",
    "- Construction à base de lego, meccano, ... ?\n",
    "- Carte à micro-controleur (BBC micro:bit, Arduino, Raspberry Pi) ?\n",
    "- Montage électronique sur breadboard ?\n",
    "- Autre... ?\n"
   ]
  },
  {
   "cell_type": "code",
   "execution_count": null,
   "metadata": {},
   "outputs": [],
   "source": []
  }
 ],
 "metadata": {
  "kernelspec": {
   "display_name": "Python 3",
   "language": "python",
   "name": "python3"
  },
  "language_info": {
   "codemirror_mode": {
    "name": "ipython",
    "version": 3
   },
   "file_extension": ".py",
   "mimetype": "text/x-python",
   "name": "python",
   "nbconvert_exporter": "python",
   "pygments_lexer": "ipython3",
   "version": "3.7.3"
  },
  "varInspector": {
   "cols": {
    "lenName": 16,
    "lenType": 16,
    "lenVar": 40
   },
   "kernels_config": {
    "python": {
     "delete_cmd_postfix": "",
     "delete_cmd_prefix": "del ",
     "library": "var_list.py",
     "varRefreshCmd": "print(var_dic_list())"
    },
    "r": {
     "delete_cmd_postfix": ") ",
     "delete_cmd_prefix": "rm(",
     "library": "var_list.r",
     "varRefreshCmd": "cat(var_dic_list()) "
    }
   },
   "types_to_exclude": [
    "module",
    "function",
    "builtin_function_or_method",
    "instance",
    "_Feature"
   ],
   "window_display": false
  }
 },
 "nbformat": 4,
 "nbformat_minor": 2
}
