{
 "cells": [
  {
   "cell_type": "markdown",
   "metadata": {},
   "source": [
    "Ce document présente une série de Bloc-Notes destinés aux élèves de seconde qui suivent les enseignements de Création et Innovation Technologique et de Sciences de l'Ingénieur au lycée Notre Dame du Mur de Morlaix.\n",
    "<img src=\"https://ericecmorlaix.github.io/img/ECAM-Lycee-Notre-Dame-Du-Mur.png\" alt=\"Logo du Lycee Notre Dame Du Mur\" width=50%>"
   ]
  },
  {
   "cell_type": "markdown",
   "metadata": {},
   "source": [
    "<center><h1>Sommaire</h1></center>\n",
    "\n",
    "## Télécharger un notebook Jupyter\n",
    "\n",
    "Suivre les instructions de [la Notice](http://sme.lycee.ecmorlaix.fr/YG/2019/Python-BN/tuto.html) de Monsieur GUELOU pour télécharger un notebook Jupyter sur iPad et l'ouvrir dans l'application \"Carnets\"\n",
    "\n",
    "## Rapporter dans un notebook Jupyter\n",
    "\n",
    "L'objectif de cette partie est de vous faire découvrir le potentiel de jupyter notebook pour rédiger rapidement un compte rendu scientifique interactif publiable sur le Web.\n",
    "\n",
    "### Les bases :\n",
    "1. [Introduction](Introduction-Le_BN_pour_explorer.ipynb) - Un bloc-note pour explorer les fonctionnalités de jupyter notebook ;\n",
    "1. [Markdown](MarkDown-Le_BN_pour_rapporter.ipynb) - Un bloc-note pour découvrir la rapidité d'écriture d'un document Web en Markdown dans un jupyter notebook ;\n",
    "\n",
    "### Les compléments :\n",
    "1. [HTML](HTML-Le_BN_pour_multimedier.ipynb) - Un bloc-note pour créer un document Web multimédia en HTML dans un jupyter notebook ;\n",
    "1. [CSS](CSS-Le_BN_pour_styler.ipynb) - Un bloc-note pour ajouter du style CSS dans un jupyter notebook ;\n",
    "1. [LaTeX](LaTeX-Le_BN_pour_formuler.ipynb) - Un bloc-note pour enrichir un document Web de formules en $\\LaTeX{}$ dans un jupyter notebook ;\n",
    "\n",
    "## Programmer en Python dans un notebook Jupyter :\n",
    "\n",
    "Découvrir les bases de la programmation en Python à l'aide des [Carnets](http://sme.lycee.ecmorlaix.fr/YG/2019/python.html) de Monsieur GUELOU."
   ]
  },
  {
   "cell_type": "markdown",
   "metadata": {},
   "source": [
    "## Compte rendu de mini-projet d'application :\n",
    "\n",
    "- [CompteRendu](CompteRendu-Le_BN_a_modifier.ipynb) - Un bloc-note à modifier pour initier la rédaction de votre rapport dans un jupyter notebook."
   ]
  },
  {
   "cell_type": "markdown",
   "metadata": {},
   "source": [
    "<img src=\"https://ericecmorlaix.github.io/img/ECAM-Logo.png\" alt=\"Logo de l'ECA.M\" width=50%>"
   ]
  },
  {
   "cell_type": "markdown",
   "metadata": {
    "collapsed": true
   },
   "source": [
    "<a rel=\"license\" href=\"http://creativecommons.org/licenses/by-sa/4.0/\"><img alt=\"Licence Creative Commons\" style=\"border-width:0\" src=\"https://i.creativecommons.org/l/by-sa/4.0/88x31.png\" /></a><br />Ce document est mis à disposition selon les termes de la <a rel=\"license\" href=\"http://creativecommons.org/licenses/by-sa/4.0/\">Licence Creative Commons Attribution -  Partage dans les Mêmes Conditions 4.0 International</a>.\n",
    "\n",
    "Pour toute question, suggestion ou commentaire : <a href=\"mailto:eric.madec@ecmorlaix.fr\">eric.madec@ecmorlaix.fr</a>"
   ]
  }
 ],
 "metadata": {
  "kernelspec": {
   "display_name": "Python 3",
   "language": "python",
   "name": "python3"
  },
  "language_info": {
   "codemirror_mode": {
    "name": "ipython",
    "version": 3
   },
   "file_extension": ".py",
   "mimetype": "text/x-python",
   "name": "python",
   "nbconvert_exporter": "python",
   "pygments_lexer": "ipython3",
   "version": "3.7.3"
  },
  "varInspector": {
   "cols": {
    "lenName": 16,
    "lenType": 16,
    "lenVar": 40
   },
   "kernels_config": {
    "python": {
     "delete_cmd_postfix": "",
     "delete_cmd_prefix": "del ",
     "library": "var_list.py",
     "varRefreshCmd": "print(var_dic_list())"
    },
    "r": {
     "delete_cmd_postfix": ") ",
     "delete_cmd_prefix": "rm(",
     "library": "var_list.r",
     "varRefreshCmd": "cat(var_dic_list()) "
    }
   },
   "types_to_exclude": [
    "module",
    "function",
    "builtin_function_or_method",
    "instance",
    "_Feature"
   ],
   "window_display": false
  }
 },
 "nbformat": 4,
 "nbformat_minor": 2
}
